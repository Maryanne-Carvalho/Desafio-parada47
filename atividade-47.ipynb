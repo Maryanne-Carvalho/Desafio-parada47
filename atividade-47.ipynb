{
 "cells": [
  {
   "cell_type": "code",
   "execution_count": 15,
   "metadata": {},
   "outputs": [
    {
     "data": {
      "text/html": [
       "<div>\n",
       "<style scoped>\n",
       "    .dataframe tbody tr th:only-of-type {\n",
       "        vertical-align: middle;\n",
       "    }\n",
       "\n",
       "    .dataframe tbody tr th {\n",
       "        vertical-align: top;\n",
       "    }\n",
       "\n",
       "    .dataframe thead th {\n",
       "        text-align: right;\n",
       "    }\n",
       "</style>\n",
       "<table border=\"1\" class=\"dataframe\">\n",
       "  <thead>\n",
       "    <tr style=\"text-align: right;\">\n",
       "      <th></th>\n",
       "      <th>Unnamed: 0</th>\n",
       "      <th>Dias da semana</th>\n",
       "      <th>Matérias</th>\n",
       "      <th>Alunos presentes</th>\n",
       "      <th>Alunos com falta</th>\n",
       "    </tr>\n",
       "  </thead>\n",
       "  <tbody>\n",
       "    <tr>\n",
       "      <th>0</th>\n",
       "      <td>NaN</td>\n",
       "      <td>Segunda-feira</td>\n",
       "      <td>Português</td>\n",
       "      <td>29</td>\n",
       "      <td>1</td>\n",
       "    </tr>\n",
       "    <tr>\n",
       "      <th>1</th>\n",
       "      <td>NaN</td>\n",
       "      <td>Terça-feira</td>\n",
       "      <td>Matemática</td>\n",
       "      <td>25</td>\n",
       "      <td>5</td>\n",
       "    </tr>\n",
       "    <tr>\n",
       "      <th>2</th>\n",
       "      <td>NaN</td>\n",
       "      <td>Quarta-feira</td>\n",
       "      <td>História</td>\n",
       "      <td>28</td>\n",
       "      <td>2</td>\n",
       "    </tr>\n",
       "    <tr>\n",
       "      <th>3</th>\n",
       "      <td>NaN</td>\n",
       "      <td>Quinta-feira</td>\n",
       "      <td>Geográfia</td>\n",
       "      <td>24</td>\n",
       "      <td>7</td>\n",
       "    </tr>\n",
       "    <tr>\n",
       "      <th>4</th>\n",
       "      <td>NaN</td>\n",
       "      <td>Sexta-feira</td>\n",
       "      <td>Quimica</td>\n",
       "      <td>22</td>\n",
       "      <td>9</td>\n",
       "    </tr>\n",
       "    <tr>\n",
       "      <th>5</th>\n",
       "      <td>NaN</td>\n",
       "      <td>Sábado</td>\n",
       "      <td>Inglês</td>\n",
       "      <td>18</td>\n",
       "      <td>13</td>\n",
       "    </tr>\n",
       "  </tbody>\n",
       "</table>\n",
       "</div>"
      ],
      "text/plain": [
       "   Unnamed: 0 Dias da semana    Matérias  Alunos presentes  Alunos com falta\n",
       "0         NaN  Segunda-feira   Português                29                 1\n",
       "1         NaN    Terça-feira  Matemática                25                 5\n",
       "2         NaN   Quarta-feira    História                28                 2\n",
       "3         NaN   Quinta-feira   Geográfia                24                 7\n",
       "4         NaN    Sexta-feira     Quimica                22                 9\n",
       "5         NaN         Sábado      Inglês                18                13"
      ]
     },
     "metadata": {},
     "output_type": "display_data"
    }
   ],
   "source": [
    "import pandas as pd\n",
    "\n",
    "curso = pd.read_excel(\"cursinho.xlsx\", header=1) \n",
    "display(curso)"
   ]
  },
  {
   "cell_type": "markdown",
   "metadata": {},
   "source": [
    "1 - Matéria com maior presença"
   ]
  },
  {
   "cell_type": "code",
   "execution_count": 18,
   "metadata": {},
   "outputs": [
    {
     "name": "stdout",
     "output_type": "stream",
     "text": [
      "Maior presença de alunos foi na matéria: Português\n"
     ]
    }
   ],
   "source": [
    "maior_presenca = curso.loc[curso[\"Alunos presentes\"].idxmax()]\n",
    "print(f\"Maior presença de alunos foi na matéria: {maior_presenca['Matérias']}\")"
   ]
  },
  {
   "cell_type": "markdown",
   "metadata": {},
   "source": [
    "2 - Matéria com maior número de faltas"
   ]
  },
  {
   "cell_type": "code",
   "execution_count": 19,
   "metadata": {},
   "outputs": [
    {
     "name": "stdout",
     "output_type": "stream",
     "text": [
      "Maior número de faltas foi na matéria: Inglês\n"
     ]
    }
   ],
   "source": [
    "maior_falta = curso.loc[curso[\"Alunos com falta\"].idxmax()]\n",
    "print(f\"Maior número de faltas foi na matéria: {maior_falta['Matérias']}\")"
   ]
  },
  {
   "cell_type": "markdown",
   "metadata": {},
   "source": [
    "3 - Percentual de faltas em cada matéria"
   ]
  },
  {
   "cell_type": "code",
   "execution_count": 22,
   "metadata": {},
   "outputs": [
    {
     "data": {
      "text/html": [
       "<div>\n",
       "<style scoped>\n",
       "    .dataframe tbody tr th:only-of-type {\n",
       "        vertical-align: middle;\n",
       "    }\n",
       "\n",
       "    .dataframe tbody tr th {\n",
       "        vertical-align: top;\n",
       "    }\n",
       "\n",
       "    .dataframe thead th {\n",
       "        text-align: right;\n",
       "    }\n",
       "</style>\n",
       "<table border=\"1\" class=\"dataframe\">\n",
       "  <thead>\n",
       "    <tr style=\"text-align: right;\">\n",
       "      <th></th>\n",
       "      <th>Matérias</th>\n",
       "      <th>Percentual de Faltas</th>\n",
       "    </tr>\n",
       "  </thead>\n",
       "  <tbody>\n",
       "    <tr>\n",
       "      <th>0</th>\n",
       "      <td>Português</td>\n",
       "      <td>3.33%</td>\n",
       "    </tr>\n",
       "    <tr>\n",
       "      <th>1</th>\n",
       "      <td>Matemática</td>\n",
       "      <td>16.67%</td>\n",
       "    </tr>\n",
       "    <tr>\n",
       "      <th>2</th>\n",
       "      <td>História</td>\n",
       "      <td>6.67%</td>\n",
       "    </tr>\n",
       "    <tr>\n",
       "      <th>3</th>\n",
       "      <td>Geográfia</td>\n",
       "      <td>22.58%</td>\n",
       "    </tr>\n",
       "    <tr>\n",
       "      <th>4</th>\n",
       "      <td>Quimica</td>\n",
       "      <td>29.03%</td>\n",
       "    </tr>\n",
       "    <tr>\n",
       "      <th>5</th>\n",
       "      <td>Inglês</td>\n",
       "      <td>41.94%</td>\n",
       "    </tr>\n",
       "  </tbody>\n",
       "</table>\n",
       "</div>"
      ],
      "text/plain": [
       "     Matérias Percentual de Faltas\n",
       "0   Português                3.33%\n",
       "1  Matemática               16.67%\n",
       "2    História                6.67%\n",
       "3   Geográfia               22.58%\n",
       "4     Quimica               29.03%\n",
       "5      Inglês               41.94%"
      ]
     },
     "metadata": {},
     "output_type": "display_data"
    }
   ],
   "source": [
    "curso[\"Percentual de Faltas\"] = ((curso[\"Alunos com falta\"] / (curso[\"Alunos presentes\"] + curso[\"Alunos com falta\"])) * 100).round(2)\n",
    "curso[\"Percentual de Faltas\"] = curso[\"Percentual de Faltas\"].apply(lambda x: f'{x:.2f}%')\n",
    "\n",
    "display(curso[[\"Matérias\", \"Percentual de Faltas\"]])"
   ]
  },
  {
   "cell_type": "markdown",
   "metadata": {},
   "source": [
    "4 - Gráfico de faltas e presenças por matéria"
   ]
  },
  {
   "cell_type": "code",
   "execution_count": 20,
   "metadata": {},
   "outputs": [
    {
     "data": {
      "image/png": "[encoded data removed]",
      "text/plain": [
       "<Figure size 1000x600 with 1 Axes>"
      ]
     },
     "metadata": {},
     "output_type": "display_data"
    }
   ],
   "source": [
    "import matplotlib.pyplot as plt\n",
    "\n",
    "curso.plot(x=\"Matérias\", y=[\"Alunos presentes\", \"Alunos com falta\"], kind=\"bar\", figsize=(10,6))\n",
    "plt.title(\"Comparação de Alunos Presentes e com Faltas por Matéria\")\n",
    "plt.ylabel(\"Número de Alunos\")\n",
    "plt.xlabel(\"Matérias\")\n",
    "plt.xticks(rotation=45)\n",
    "plt.show()"
   ]
  }
 ],
 "metadata": {
  "kernelspec": {
   "display_name": "Python 3",
   "language": "python",
   "name": "python3"
  },
  "language_info": {
   "codemirror_mode": {
    "name": "ipython",
    "version": 3
   },
   "file_extension": ".py",
   "mimetype": "text/x-python",
   "name": "python",
   "nbconvert_exporter": "python",
   "pygments_lexer": "ipython3",
   "version": "3.12.4"
  }
 },
 "nbformat": 4,
 "nbformat_minor": 2
}
